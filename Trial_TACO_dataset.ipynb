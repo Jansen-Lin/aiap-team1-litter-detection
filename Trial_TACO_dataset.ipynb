{
 "cells": [
  {
   "cell_type": "markdown",
   "id": "ff5c3422-916f-4984-936c-fc2b7e73415d",
   "metadata": {},
   "source": [
    "pedropro/TACO <br>\n",
    "https://github.com/pedropro/TACO/blob/master/README.md\n",
    "\n"
   ]
  },
  {
   "cell_type": "markdown",
   "id": "b93e5de9-df7d-4eb5-929c-bbf6f7ed5833",
   "metadata": {},
   "source": [
    "https://cocodataset.org/#home"
   ]
  },
  {
   "cell_type": "code",
   "execution_count": null,
   "id": "65050609-abb6-4a47-8e28-e74482a22ce0",
   "metadata": {},
   "outputs": [],
   "source": []
  },
  {
   "cell_type": "code",
   "execution_count": null,
   "id": "9897bd9f-fd22-4399-92e4-bee86f9aa098",
   "metadata": {},
   "outputs": [],
   "source": []
  },
  {
   "cell_type": "code",
   "execution_count": null,
   "id": "5859be8b-6247-400c-af77-daba0f86e5c4",
   "metadata": {},
   "outputs": [],
   "source": []
  },
  {
   "cell_type": "code",
   "execution_count": null,
   "id": "689e5223-bf3c-48a6-a273-7392705547f3",
   "metadata": {},
   "outputs": [],
   "source": []
  },
  {
   "cell_type": "code",
   "execution_count": 3,
   "id": "5de5588d-4361-4342-94cb-e035179dbd26",
   "metadata": {},
   "outputs": [
    {
     "name": "stdout",
     "output_type": "stream",
     "text": [
      "Collecting git+https://github.com/philferriere/cocoapi.git#subdirectory=PythonAPI\n",
      "  Cloning https://github.com/philferriere/cocoapi.git to c:\\users\\jansen-lin\\appdata\\local\\temp\\pip-req-build-fki_c2ll\n",
      "  Resolved https://github.com/philferriere/cocoapi.git to commit 2929bd2ef6b451054755dfd7ceb09278f935f7ad\n"
     ]
    },
    {
     "name": "stderr",
     "output_type": "stream",
     "text": [
      "  Running command git clone -q https://github.com/philferriere/cocoapi.git 'C:\\Users\\Jansen-Lin\\AppData\\Local\\Temp\\pip-req-build-fki_c2ll'\n",
      "    ERROR: Command errored out with exit status 1:\n",
      "     command: 'C:\\Users\\Jansen-Lin\\anaconda3\\envs\\AIAP_Assign_6\\python.exe' -c 'import io, os, sys, setuptools, tokenize; sys.argv[0] = '\"'\"'C:\\\\Users\\\\Jansen-Lin\\\\AppData\\\\Local\\\\Temp\\\\pip-req-build-fki_c2ll\\\\PythonAPI\\\\setup.py'\"'\"'; __file__='\"'\"'C:\\\\Users\\\\Jansen-Lin\\\\AppData\\\\Local\\\\Temp\\\\pip-req-build-fki_c2ll\\\\PythonAPI\\\\setup.py'\"'\"';f = getattr(tokenize, '\"'\"'open'\"'\"', open)(__file__) if os.path.exists(__file__) else io.StringIO('\"'\"'from setuptools import setup; setup()'\"'\"');code = f.read().replace('\"'\"'\\r\\n'\"'\"', '\"'\"'\\n'\"'\"');f.close();exec(compile(code, __file__, '\"'\"'exec'\"'\"'))' egg_info --egg-base 'C:\\Users\\Jansen-Lin\\AppData\\Local\\Temp\\pip-pip-egg-info-nlxfkw6t'\n",
      "         cwd: C:\\Users\\Jansen-Lin\\AppData\\Local\\Temp\\pip-req-build-fki_c2ll\\PythonAPI\n",
      "    Complete output (5 lines):\n",
      "    Traceback (most recent call last):\n",
      "      File \"<string>\", line 1, in <module>\n",
      "      File \"C:\\Users\\Jansen-Lin\\AppData\\Local\\Temp\\pip-req-build-fki_c2ll\\PythonAPI\\setup.py\", line 2, in <module>\n",
      "        from Cython.Build import cythonize\n",
      "    ModuleNotFoundError: No module named 'Cython'\n",
      "    ----------------------------------------\n",
      "WARNING: Discarding git+https://github.com/philferriere/cocoapi.git#subdirectory=PythonAPI. Command errored out with exit status 1: python setup.py egg_info Check the logs for full command output.\n",
      "ERROR: Command errored out with exit status 1: python setup.py egg_info Check the logs for full command output.\n"
     ]
    }
   ],
   "source": [
    "!pip install git+https://github.com/philferriere/cocoapi.git#subdirectory=PythonAPI"
   ]
  },
  {
   "cell_type": "code",
   "execution_count": null,
   "id": "51197e1d-7801-450e-aa98-b202ee0f90de",
   "metadata": {},
   "outputs": [],
   "source": []
  }
 ],
 "metadata": {
  "kernelspec": {
   "display_name": "Python 3 (ipykernel)",
   "language": "python",
   "name": "python3"
  },
  "language_info": {
   "codemirror_mode": {
    "name": "ipython",
    "version": 3
   },
   "file_extension": ".py",
   "mimetype": "text/x-python",
   "name": "python",
   "nbconvert_exporter": "python",
   "pygments_lexer": "ipython3",
   "version": "3.8.13"
  }
 },
 "nbformat": 4,
 "nbformat_minor": 5
}
